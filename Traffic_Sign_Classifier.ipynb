{
 "cells": [
  {
   "cell_type": "markdown",
   "metadata": {},
   "source": [
    "# Self-Driving Car Engineer Nanodegree\n",
    "\n",
    "## Deep Learning\n",
    "\n",
    "## Project: Build a Traffic Sign Recognition Classifier\n",
    "\n",
    "For this project, we can see each of the following setups as outlined below, for necessary completion of the rubric points.  The next 5 sections expound on these details.\n",
    "\n",
    "1. Load the data set \n",
    "2. Explore, summarize and visualize the data set\n",
    "3. Design, train and test a model architecture\n",
    "4. Use the model to make predictions on new images\n",
    "5. Analyze the softmax probabilities of the new images\n",
    "6. Summarize the results with a written report\n",
    " \n",
    " This here Jupyter notebook is the written report!\n"
   ]
  },
  {
   "cell_type": "markdown",
   "metadata": {},
   "source": [
    "---\n",
    "## Step 0: All needed imports\n",
    "\n",
    "Useful for testing if environment is ready to rip"
   ]
  },
  {
   "cell_type": "code",
   "execution_count": 1,
   "metadata": {},
   "outputs": [
    {
     "name": "stdout",
     "output_type": "stream",
     "text": [
      "Loaded all imports!\n"
     ]
    }
   ],
   "source": [
    "import csv\n",
    "import matplotlib.pyplot as plt\n",
    "import matplotlib.image as mpimg\n",
    "import numpy as np\n",
    "import pickle\n",
    "import random\n",
    "\n",
    "from sklearn.utils import shuffle\n",
    "from sklearn.model_selection import train_test_split\n",
    "\n",
    "import tensorflow as tf\n",
    "from tensorflow.contrib.layers import flatten\n",
    "\n",
    "print('Loaded all imports!')"
   ]
  },
  {
   "cell_type": "markdown",
   "metadata": {},
   "source": [
    "---\n",
    "## Step 1: Load the data set\n",
    "\n",
    "Retreived file via curl piping into a zip file and extracting.  Per project description, [dataset may be found at the provided link](https://d17h27t6h515a5.cloudfront.net/topher/2017/February/5898cd6f_traffic-signs-data/traffic-signs-data.zip)"
   ]
  },
  {
   "cell_type": "code",
   "execution_count": 2,
   "metadata": {},
   "outputs": [
    {
     "name": "stdout",
     "output_type": "stream",
     "text": [
      "all done loading\n"
     ]
    }
   ],
   "source": [
    "# Load pickled data\n",
    "\n",
    "training_file   = './train.p'\n",
    "validation_file = './valid.p'\n",
    "testing_file    = './test.p'\n",
    "\n",
    "# sign names for labels\n",
    "names_file      = './signnames.csv'\n",
    "\n",
    "with open(names_file) as f:\n",
    "    reader = csv.reader(f)\n",
    "    next(reader) # skip first row\n",
    "    names = {int(rows[0]):rows[1] for rows in reader}\n",
    "\n",
    "with open(training_file, mode='rb') as f:\n",
    "    train = pickle.load(f)\n",
    "with open(validation_file, mode='rb') as f:\n",
    "    valid = pickle.load(f)\n",
    "with open(testing_file, mode='rb') as f:\n",
    "    test = pickle.load(f)\n",
    "    \n",
    "X_train, y_train = train['features'], train['labels']\n",
    "X_valid, y_valid = valid['features'], valid['labels']\n",
    "X_test, y_test   =  test['features'],  test['labels']\n",
    "\n",
    "print('all done loading')"
   ]
  },
  {
   "cell_type": "markdown",
   "metadata": {},
   "source": [
    "---\n",
    "## Step 2: Dataset Summary & Exploration\n",
    "\n",
    "The next few section provide a snapshot of the data and visualizes some examples."
   ]
  },
  {
   "cell_type": "markdown",
   "metadata": {},
   "source": [
    "### Here is Basic Summary of the Data Set"
   ]
  },
  {
   "cell_type": "code",
   "execution_count": 3,
   "metadata": {},
   "outputs": [
    {
     "name": "stdout",
     "output_type": "stream",
     "text": [
      "Number of training examples = 34799\n",
      "Number of testing examples = 12630\n",
      "Image data shape = (32, 32, 3)\n",
      "Number of classes = 43\n"
     ]
    }
   ],
   "source": [
    "# Number of training examples\n",
    "n_train = np.shape(X_train)[0]\n",
    "\n",
    "# Number of validation examples\n",
    "n_validation = np.shape(X_valid)[0]\n",
    "\n",
    "# Number of testing examples.\n",
    "n_test = np.shape(X_test)[0]\n",
    "\n",
    "# What's the shape of an traffic sign image?\n",
    "image_shape = np.shape(X_train[0])\n",
    "\n",
    "# How many unique classes/labels there are in the dataset.\n",
    "sign_classes, class_counts = np.unique(y_train, return_counts = True)\n",
    "num_classes = len(set(y_train)) # Original way I came up with, found this way above when needing to do augmentation\n",
    "\n",
    "print(\"Number of training examples =\", n_train)\n",
    "print(\"Number of testing examples =\", n_test)\n",
    "print(\"Image data shape =\", image_shape)\n",
    "print(\"Number of classes =\", len(sign_classes))"
   ]
  },
  {
   "cell_type": "markdown",
   "metadata": {},
   "source": [
    "### here is an exploratory visualization of the dataset\n",
    "\n",
    "As can be clearly seen, the distribution of classes if very uneven\n"
   ]
  },
  {
   "cell_type": "code",
   "execution_count": 88,
   "metadata": {},
   "outputs": [
    {
     "data": {
      "image/png": "[encoded data removed]",
      "text/plain": [
       "<matplotlib.figure.Figure at 0x7f0a036b7240>"
      ]
     },
     "metadata": {},
     "output_type": "display_data"
    }
   ],
   "source": [
    "%matplotlib inline\n",
    "\n",
    "plt.title(\"Distribution of classes\")\n",
    "plt.ylabel('Number of samples (of each sign class)')\n",
    "chart = plt.plot(class_counts, 'b^')\n",
    "#chart.set_xticklabels(names) #TODO Actually name the signs on the bar chart so we know what is underrepresented\\\n",
    "#plt.bar(x, y, width, color=\"blue\")\n",
    "plt.show()\n"
   ]
  },
  {
   "cell_type": "markdown",
   "metadata": {},
   "source": [
    "### ...and finally,  a sampling of some images from the dataset\n",
    "\n",
    "I ran this after shuffling and normalizing the dataset.  Hence no need to randomize index. Commented in case needed"
   ]
  },
  {
   "cell_type": "code",
   "execution_count": 114,
   "metadata": {},
   "outputs": [
    {
     "data": {
      "image/png": "[encoded data removed]",
      "text/plain": [
       "<matplotlib.figure.Figure at 0x7f0a020bfd30>"
      ]
     },
     "metadata": {},
     "output_type": "display_data"
    },
    {
     "name": "stdout",
     "output_type": "stream",
     "text": [
      "18\n"
     ]
    },
    {
     "data": {
      "image/png": "[encoded data removed]",
      "text/plain": [
       "<matplotlib.figure.Figure at 0x7f0a02765be0>"
      ]
     },
     "metadata": {},
     "output_type": "display_data"
    },
    {
     "name": "stdout",
     "output_type": "stream",
     "text": [
      "38\n"
     ]
    },
    {
     "data": {
      "image/png": "[encoded data removed]",
      "text/plain": [
       "<matplotlib.figure.Figure at 0x7f0a01e3ef28>"
      ]
     },
     "metadata": {},
     "output_type": "display_data"
    },
    {
     "name": "stdout",
     "output_type": "stream",
     "text": [
      "15\n"
     ]
    },
    {
     "data": {
      "image/png": "[encoded data removed]",
      "text/plain": [
       "<matplotlib.figure.Figure at 0x7f0a01db6d30>"
      ]
     },
     "metadata": {},
     "output_type": "display_data"
    },
    {
     "name": "stdout",
     "output_type": "stream",
     "text": [
      "22\n"
     ]
    },
    {
     "data": {
      "image/png": "[encoded data removed]",
      "text/plain": [
       "<matplotlib.figure.Figure at 0x7f0a01d8dbe0>"
      ]
     },
     "metadata": {},
     "output_type": "display_data"
    },
    {
     "name": "stdout",
     "output_type": "stream",
     "text": [
      "7\n"
     ]
    }
   ],
   "source": [
    "%matplotlib inline\n",
    "\n",
    "for x in range(5):\n",
    "    index = x #random.randint(0, len(X_train))\n",
    "    image = X_train[index].squeeze()\n",
    "\n",
    "    plt.figure(figsize=(1,1))\n",
    "    plt.title(names[y_train[index]])\n",
    "    #plt.subplot(1,10,x+1) # failed attempt to inline some of the images, not germane to this work\n",
    "    plt.imshow(image) # showing with cmap='gray' does not have effect; per docs, if array depth is 3, then cmap is ignored\n",
    "    plt.show()\n",
    "    print(y_train[x])\n",
    "    "
   ]
  },
  {
   "cell_type": "markdown",
   "metadata": {},
   "source": [
    "----\n",
    "\n",
    "## Step 3: Design, train and test a model architecture\n",
    "\n",
    "\n",
    "Here we setup the model architecture, pre-process the data and other fun things. "
   ]
  },
  {
   "cell_type": "markdown",
   "metadata": {},
   "source": [
    "### Pre-process the Data Set (normalization, grayscale, etc.)"
   ]
  },
  {
   "cell_type": "code",
   "execution_count": 4,
   "metadata": {},
   "outputs": [
    {
     "name": "stdout",
     "output_type": "stream",
     "text": [
      "shuffled up and training/validation sets ready\n"
     ]
    }
   ],
   "source": [
    "X_train, y_train = shuffle(X_train, y_train)\n",
    "X_train, X_validation, y_train, y_validation = train_test_split(X_train, y_train, test_size=0.2, random_state=0)\n",
    "\n",
    "print('shuffled up and training/validation sets ready')"
   ]
  },
  {
   "cell_type": "code",
   "execution_count": 5,
   "metadata": {},
   "outputs": [
    {
     "name": "stdout",
     "output_type": "stream",
     "text": [
      "Images are now roughly normalized, hooray!\n"
     ]
    }
   ],
   "source": [
    "def normalize(pixels):\n",
    "    return (pixels - 128) / 128\n",
    "\n",
    "X_train = normalize(X_train)\n",
    "X_validation = normalize(X_validation)\n",
    "X_test = normalize(X_test)\n",
    "\n",
    "print('Images are now roughly normalized, hooray!')"
   ]
  },
  {
   "cell_type": "markdown",
   "metadata": {},
   "source": [
    "### Model Architecture\n",
    "#### Description\n",
    " \n",
    "I feel the code below provides some of the relevant hyper-parameters used for tuning and the deep network architecture.  This is basically a copy of the LeNet solution, with DropOut and regularization added being the main difference.  In addition, one of the fully-connected layers was dropped.  The other main difference is the depths for the convolution layers were upped a bit more as the LeNet solution was for 10 classes, and since we have 43, there are surely more finer-grained features to learn. \n"
   ]
  },
  {
   "cell_type": "code",
   "execution_count": 5,
   "metadata": {},
   "outputs": [
    {
     "name": "stdout",
     "output_type": "stream",
     "text": [
      "All done\n"
     ]
    }
   ],
   "source": [
    "\n",
    "EPOCHS = 500\n",
    "BATCH_SIZE = 1024 #orig 128\n",
    "# Arguments used for tf.truncated_normal, randomly defines variables for the weights and biases for each layer\n",
    "mu = 0\n",
    "sigma = 0.16\n",
    "\n",
    "# Declaring weights outside method for access later.  CLEANME: Move this to a proper class\n",
    "depth_conv1 = 6\n",
    "depth_conv2 = 16\n",
    "size_fc_1 = 120\n",
    "size_fc_2 = 84\n",
    "\n",
    "conv1_W = tf.Variable(tf.truncated_normal(shape=(5, 5, 3, depth_conv1), mean = mu, stddev = sigma))\n",
    "conv2_W = tf.Variable(tf.truncated_normal(shape=(5, 5, depth_conv1, depth_conv2), mean = mu, stddev = sigma))\n",
    "fc1_W = tf.Variable(tf.truncated_normal(shape=(5*5*depth_conv2, size_fc_1), mean = mu, stddev = sigma))\n",
    "fc2_W  = tf.Variable(tf.truncated_normal(shape=(size_fc_1, size_fc_2), mean = mu, stddev = sigma))\n",
    "fc3_W  = tf.Variable(tf.truncated_normal(shape=(size_fc_2, num_classes), mean = mu, stddev = sigma))\n",
    "keep_prob = tf.placeholder(tf.float32) # probability to keep units\n",
    "\n",
    "def LeNet(x):    \n",
    "    print(\"Charging up!\")\n",
    "\n",
    "    # Layer 1: Convolutional. Input = 32x32x1. Output = 28x28xdepth_conv1.\n",
    "    conv1_b = tf.Variable(tf.zeros(depth_conv1))\n",
    "    conv1   = tf.nn.conv2d(x, conv1_W, strides=[1, 1, 1, 1], padding='VALID') + conv1_b\n",
    "\n",
    "    # Activation.\n",
    "    conv1 = tf.nn.relu(conv1)\n",
    "    #conv1 =  tf.nn.dropout(conv1, keep_prob)\n",
    "    \n",
    "    # Pooling. Input = 28x28xdepth_conv1. Output = 14x14xdepth_conv1.\n",
    "    conv1 = tf.nn.max_pool(conv1, ksize=[1, 2, 2, 1], strides=[1, 2, 2, 1], padding='VALID')\n",
    "\n",
    "    # Layer 2: Convolutional. Output = 10x10xdepth_conv2.\n",
    "    conv2_b = tf.Variable(tf.zeros(depth_conv2))\n",
    "    conv2   = tf.nn.conv2d(conv1, conv2_W, strides=[1, 1, 1, 1], padding='VALID') + conv2_b\n",
    "    \n",
    "    # Activation.\n",
    "    conv2 = tf.nn.relu(conv2)\n",
    "    #conv2 = tf.nn.dropout(conv2, keep_prob)\n",
    "\n",
    "    # Pooling. Input = 10x10xdepth_conv2. Output = 5x5xdepth_conv2.\n",
    "    conv2 = tf.nn.max_pool(conv2, ksize=[1, 2, 2, 1], strides=[1, 2, 2, 1], padding='VALID')\n",
    "\n",
    "    # Flatten. Input = 5x5xdepth_conv2. Output = 1800.\n",
    "    fc0   = flatten(conv2)\n",
    "    \n",
    "    # Layer 3: Fully Connected. Input = 1800. Output = size_fc_1.\n",
    "    fc1_b = tf.Variable(tf.zeros(size_fc_1))\n",
    "    fc1   = tf.matmul(fc0, fc1_W) + fc1_b\n",
    "    \n",
    "    # Activation.\n",
    "    fc1    = tf.nn.relu(fc1)\n",
    "    #fc1    = tf.nn.dropout(fc1, keep_prob)\n",
    "    \n",
    "    # Layer 3: Fully Connected. Input = size_fc_1. Output = size_fc_2.\n",
    "    fc2_b  = tf.Variable(tf.zeros(size_fc_2))\n",
    "    fc2    = tf.matmul(fc1, fc2_W) + fc2_b\n",
    "    \n",
    "    # Activation.\n",
    "    fc2    = tf.nn.relu(fc2)\n",
    "    fc2    = tf.nn.dropout(fc2, keep_prob)\n",
    "\n",
    "    # Layer 4: Fully Connected. Input = size_fc_2. Output = num_classes.\n",
    "    fc3_b  = tf.Variable(tf.zeros(num_classes))\n",
    "    logits = tf.matmul(fc2, fc3_W) + fc3_b\n",
    "    \n",
    "    return logits\n",
    "\n",
    "x = tf.placeholder(tf.float32, (None, 32, 32, 3))\n",
    "y = tf.placeholder(tf.int32, (None))\n",
    "one_hot_y = tf.one_hot(y, num_classes)\n",
    "\n",
    "print('All done')"
   ]
  },
  {
   "cell_type": "markdown",
   "metadata": {},
   "source": [
    "### Train, Validate and Test the Model"
   ]
  },
  {
   "cell_type": "code",
   "execution_count": 21,
   "metadata": {},
   "outputs": [
    {
     "name": "stdout",
     "output_type": "stream",
     "text": [
      "Charging up!\n",
      "Training...\n",
      "\n",
      "EPOCH 1 ...\n",
      "0.065 = Training accuracy vs Validation Accuracy = 0.061\n",
      "Starting to save model...\n",
      "...model saved.  Onward, hiya!\n",
      "\n",
      "EPOCH 2 ...\n",
      "0.055 = Training accuracy vs Validation Accuracy = 0.054\n",
      "Starting to save model...\n",
      "...model saved.  Onward, hiya!\n",
      "\n",
      "EPOCH 3 ...\n",
      "0.070 = Training accuracy vs Validation Accuracy = 0.068\n",
      "Starting to save model...\n",
      "...model saved.  Onward, hiya!\n",
      "\n",
      "EPOCH 4 ...\n",
      "0.080 = Training accuracy vs Validation Accuracy = 0.077\n",
      "Starting to save model...\n",
      "...model saved.  Onward, hiya!\n",
      "\n",
      "EPOCH 5 ...\n",
      "0.127 = Training accuracy vs Validation Accuracy = 0.120\n",
      "Starting to save model...\n",
      "...model saved.  Onward, hiya!\n",
      "\n",
      "EPOCH 6 ...\n",
      "0.144 = Training accuracy vs Validation Accuracy = 0.139\n",
      "Starting to save model...\n",
      "...model saved.  Onward, hiya!\n",
      "\n",
      "EPOCH 7 ...\n",
      "0.172 = Training accuracy vs Validation Accuracy = 0.169\n",
      "Starting to save model...\n",
      "...model saved.  Onward, hiya!\n",
      "\n",
      "EPOCH 8 ...\n",
      "0.218 = Training accuracy vs Validation Accuracy = 0.210\n",
      "Starting to save model...\n",
      "...model saved.  Onward, hiya!\n",
      "\n",
      "EPOCH 9 ...\n",
      "0.293 = Training accuracy vs Validation Accuracy = 0.283\n",
      "Starting to save model...\n",
      "...model saved.  Onward, hiya!\n",
      "\n",
      "EPOCH 10 ...\n",
      "0.380 = Training accuracy vs Validation Accuracy = 0.372\n",
      "Starting to save model...\n",
      "...model saved.  Onward, hiya!\n",
      "\n",
      "EPOCH 11 ...\n",
      "0.437 = Training accuracy vs Validation Accuracy = 0.425\n",
      "Starting to save model...\n",
      "...model saved.  Onward, hiya!\n",
      "\n",
      "EPOCH 12 ...\n",
      "0.480 = Training accuracy vs Validation Accuracy = 0.474\n",
      "Starting to save model...\n",
      "...model saved.  Onward, hiya!\n",
      "\n",
      "EPOCH 13 ...\n",
      "0.520 = Training accuracy vs Validation Accuracy = 0.511\n",
      "Starting to save model...\n",
      "...model saved.  Onward, hiya!\n",
      "\n",
      "EPOCH 14 ...\n",
      "0.532 = Training accuracy vs Validation Accuracy = 0.520\n",
      "Starting to save model...\n",
      "...model saved.  Onward, hiya!\n",
      "\n",
      "EPOCH 15 ...\n",
      "0.562 = Training accuracy vs Validation Accuracy = 0.549\n",
      "Starting to save model...\n",
      "...model saved.  Onward, hiya!\n",
      "\n",
      "EPOCH 16 ...\n",
      "0.562 = Training accuracy vs Validation Accuracy = 0.549\n",
      "Starting to save model...\n",
      "...model saved.  Onward, hiya!\n",
      "\n",
      "EPOCH 17 ...\n",
      "0.591 = Training accuracy vs Validation Accuracy = 0.578\n",
      "Starting to save model...\n",
      "...model saved.  Onward, hiya!\n",
      "\n",
      "EPOCH 18 ...\n",
      "0.614 = Training accuracy vs Validation Accuracy = 0.598\n",
      "Starting to save model...\n",
      "...model saved.  Onward, hiya!\n",
      "\n",
      "EPOCH 19 ...\n",
      "0.649 = Training accuracy vs Validation Accuracy = 0.637\n",
      "Starting to save model...\n",
      "...model saved.  Onward, hiya!\n",
      "\n",
      "EPOCH 20 ...\n",
      "0.666 = Training accuracy vs Validation Accuracy = 0.654\n",
      "Starting to save model...\n",
      "...model saved.  Onward, hiya!\n",
      "\n",
      "EPOCH 21 ...\n",
      "0.701 = Training accuracy vs Validation Accuracy = 0.693\n",
      "Starting to save model...\n",
      "...model saved.  Onward, hiya!\n",
      "\n",
      "EPOCH 22 ...\n",
      "0.701 = Training accuracy vs Validation Accuracy = 0.690\n",
      "Starting to save model...\n",
      "...model saved.  Onward, hiya!\n",
      "\n",
      "EPOCH 23 ...\n",
      "0.732 = Training accuracy vs Validation Accuracy = 0.718\n",
      "Starting to save model...\n",
      "...model saved.  Onward, hiya!\n",
      "\n",
      "EPOCH 24 ...\n",
      "0.737 = Training accuracy vs Validation Accuracy = 0.718\n",
      "Starting to save model...\n",
      "...model saved.  Onward, hiya!\n",
      "\n",
      "EPOCH 25 ...\n",
      "0.756 = Training accuracy vs Validation Accuracy = 0.744\n",
      "Starting to save model...\n",
      "...model saved.  Onward, hiya!\n",
      "\n",
      "EPOCH 26 ...\n",
      "0.781 = Training accuracy vs Validation Accuracy = 0.765\n",
      "Starting to save model...\n",
      "...model saved.  Onward, hiya!\n",
      "\n",
      "EPOCH 27 ...\n",
      "0.795 = Training accuracy vs Validation Accuracy = 0.783\n",
      "Starting to save model...\n",
      "...model saved.  Onward, hiya!\n",
      "\n",
      "EPOCH 28 ...\n",
      "0.795 = Training accuracy vs Validation Accuracy = 0.787\n",
      "Starting to save model...\n",
      "...model saved.  Onward, hiya!\n",
      "\n",
      "EPOCH 29 ...\n",
      "0.803 = Training accuracy vs Validation Accuracy = 0.790\n",
      "Starting to save model...\n",
      "...model saved.  Onward, hiya!\n",
      "\n",
      "EPOCH 30 ...\n",
      "0.805 = Training accuracy vs Validation Accuracy = 0.790\n",
      "Starting to save model...\n",
      "...model saved.  Onward, hiya!\n",
      "\n",
      "EPOCH 31 ...\n",
      "0.830 = Training accuracy vs Validation Accuracy = 0.816\n",
      "Starting to save model...\n",
      "...model saved.  Onward, hiya!\n",
      "\n",
      "EPOCH 32 ...\n",
      "0.823 = Training accuracy vs Validation Accuracy = 0.810\n",
      "Starting to save model...\n",
      "...model saved.  Onward, hiya!\n",
      "\n",
      "EPOCH 33 ...\n",
      "0.830 = Training accuracy vs Validation Accuracy = 0.811\n",
      "Starting to save model...\n",
      "...model saved.  Onward, hiya!\n",
      "\n",
      "EPOCH 34 ...\n",
      "0.843 = Training accuracy vs Validation Accuracy = 0.820\n",
      "Starting to save model...\n",
      "...model saved.  Onward, hiya!\n",
      "\n",
      "EPOCH 35 ...\n",
      "0.854 = Training accuracy vs Validation Accuracy = 0.835\n",
      "Starting to save model...\n",
      "...model saved.  Onward, hiya!\n",
      "\n",
      "EPOCH 36 ...\n",
      "0.843 = Training accuracy vs Validation Accuracy = 0.823\n",
      "Starting to save model...\n",
      "...model saved.  Onward, hiya!\n",
      "\n",
      "EPOCH 37 ...\n",
      "0.861 = Training accuracy vs Validation Accuracy = 0.840\n",
      "Starting to save model...\n",
      "...model saved.  Onward, hiya!\n",
      "\n",
      "EPOCH 38 ...\n",
      "0.872 = Training accuracy vs Validation Accuracy = 0.853\n",
      "Starting to save model...\n",
      "...model saved.  Onward, hiya!\n",
      "\n",
      "EPOCH 39 ...\n",
      "0.873 = Training accuracy vs Validation Accuracy = 0.856\n",
      "Starting to save model...\n",
      "...model saved.  Onward, hiya!\n",
      "\n",
      "EPOCH 40 ...\n",
      "0.874 = Training accuracy vs Validation Accuracy = 0.855\n",
      "Starting to save model...\n",
      "...model saved.  Onward, hiya!\n",
      "\n",
      "EPOCH 41 ...\n",
      "0.880 = Training accuracy vs Validation Accuracy = 0.859\n",
      "Starting to save model...\n",
      "...model saved.  Onward, hiya!\n",
      "\n",
      "EPOCH 42 ...\n",
      "0.884 = Training accuracy vs Validation Accuracy = 0.868\n",
      "Starting to save model...\n",
      "...model saved.  Onward, hiya!\n",
      "\n",
      "EPOCH 43 ...\n",
      "0.875 = Training accuracy vs Validation Accuracy = 0.854\n",
      "Starting to save model...\n",
      "...model saved.  Onward, hiya!\n",
      "\n",
      "EPOCH 44 ...\n",
      "0.897 = Training accuracy vs Validation Accuracy = 0.877\n",
      "Starting to save model...\n",
      "...model saved.  Onward, hiya!\n",
      "\n",
      "EPOCH 45 ...\n",
      "0.898 = Training accuracy vs Validation Accuracy = 0.879\n",
      "Starting to save model...\n",
      "...model saved.  Onward, hiya!\n",
      "\n",
      "EPOCH 46 ...\n",
      "0.910 = Training accuracy vs Validation Accuracy = 0.894\n",
      "Starting to save model...\n",
      "...model saved.  Onward, hiya!\n",
      "\n",
      "EPOCH 47 ...\n",
      "0.901 = Training accuracy vs Validation Accuracy = 0.888\n",
      "Starting to save model...\n",
      "...model saved.  Onward, hiya!\n",
      "\n",
      "EPOCH 48 ...\n",
      "0.910 = Training accuracy vs Validation Accuracy = 0.892\n",
      "Starting to save model...\n",
      "...model saved.  Onward, hiya!\n",
      "\n",
      "EPOCH 49 ...\n",
      "0.918 = Training accuracy vs Validation Accuracy = 0.903\n",
      "Starting to save model...\n",
      "...model saved.  Onward, hiya!\n",
      "\n",
      "EPOCH 50 ...\n",
      "0.918 = Training accuracy vs Validation Accuracy = 0.903\n",
      "Starting to save model...\n",
      "...model saved.  Onward, hiya!\n",
      "\n",
      "EPOCH 51 ...\n",
      "0.929 = Training accuracy vs Validation Accuracy = 0.914\n",
      "Starting to save model...\n",
      "...model saved.  Onward, hiya!\n",
      "\n",
      "EPOCH 52 ...\n",
      "0.924 = Training accuracy vs Validation Accuracy = 0.903\n",
      "Starting to save model...\n",
      "...model saved.  Onward, hiya!\n",
      "\n",
      "EPOCH 53 ...\n",
      "0.935 = Training accuracy vs Validation Accuracy = 0.915\n",
      "Starting to save model...\n",
      "...model saved.  Onward, hiya!\n",
      "\n",
      "EPOCH 54 ...\n",
      "0.935 = Training accuracy vs Validation Accuracy = 0.915\n",
      "Starting to save model...\n",
      "...model saved.  Onward, hiya!\n",
      "\n",
      "EPOCH 55 ...\n",
      "0.937 = Training accuracy vs Validation Accuracy = 0.918\n",
      "Starting to save model...\n",
      "...model saved.  Onward, hiya!\n",
      "\n",
      "EPOCH 56 ...\n",
      "0.941 = Training accuracy vs Validation Accuracy = 0.919\n",
      "Starting to save model...\n",
      "...model saved.  Onward, hiya!\n",
      "\n",
      "EPOCH 57 ...\n",
      "0.942 = Training accuracy vs Validation Accuracy = 0.921\n",
      "Starting to save model...\n",
      "...model saved.  Onward, hiya!\n",
      "\n",
      "EPOCH 58 ...\n",
      "0.943 = Training accuracy vs Validation Accuracy = 0.924\n",
      "Starting to save model...\n",
      "...model saved.  Onward, hiya!\n",
      "\n",
      "EPOCH 59 ...\n",
      "0.941 = Training accuracy vs Validation Accuracy = 0.923\n",
      "Starting to save model...\n",
      "...model saved.  Onward, hiya!\n",
      "\n",
      "EPOCH 60 ...\n",
      "0.946 = Training accuracy vs Validation Accuracy = 0.924\n",
      "Starting to save model...\n",
      "...model saved.  Onward, hiya!\n",
      "\n",
      "EPOCH 61 ...\n",
      "0.938 = Training accuracy vs Validation Accuracy = 0.922\n",
      "Starting to save model...\n",
      "...model saved.  Onward, hiya!\n",
      "\n",
      "EPOCH 62 ...\n",
      "0.953 = Training accuracy vs Validation Accuracy = 0.934\n",
      "Starting to save model...\n",
      "...model saved.  Onward, hiya!\n",
      "\n",
      "EPOCH 63 ...\n",
      "0.947 = Training accuracy vs Validation Accuracy = 0.929\n",
      "Starting to save model...\n",
      "...model saved.  Onward, hiya!\n",
      "\n",
      "EPOCH 64 ...\n",
      "0.949 = Training accuracy vs Validation Accuracy = 0.928\n",
      "Starting to save model...\n",
      "...model saved.  Onward, hiya!\n",
      "\n",
      "EPOCH 65 ...\n"
     ]
    },
    {
     "name": "stdout",
     "output_type": "stream",
     "text": [
      "0.958 = Training accuracy vs Validation Accuracy = 0.936\n",
      "Starting to save model...\n",
      "...model saved.  Onward, hiya!\n",
      "\n",
      "EPOCH 66 ...\n",
      "0.956 = Training accuracy vs Validation Accuracy = 0.935\n",
      "Starting to save model...\n",
      "...model saved.  Onward, hiya!\n",
      "\n",
      "EPOCH 67 ...\n",
      "0.961 = Training accuracy vs Validation Accuracy = 0.938\n",
      "Starting to save model...\n",
      "...model saved.  Onward, hiya!\n",
      "\n",
      "EPOCH 68 ...\n",
      "0.954 = Training accuracy vs Validation Accuracy = 0.931\n",
      "Starting to save model...\n",
      "...model saved.  Onward, hiya!\n",
      "\n",
      "EPOCH 69 ...\n",
      "0.963 = Training accuracy vs Validation Accuracy = 0.940\n",
      "Starting to save model...\n",
      "...model saved.  Onward, hiya!\n",
      "\n",
      "EPOCH 70 ...\n",
      "0.959 = Training accuracy vs Validation Accuracy = 0.939\n",
      "Starting to save model...\n",
      "...model saved.  Onward, hiya!\n",
      "\n",
      "EPOCH 71 ...\n",
      "0.962 = Training accuracy vs Validation Accuracy = 0.938\n",
      "Starting to save model...\n",
      "...model saved.  Onward, hiya!\n",
      "\n",
      "EPOCH 72 ...\n",
      "0.962 = Training accuracy vs Validation Accuracy = 0.942\n",
      "Starting to save model...\n",
      "...model saved.  Onward, hiya!\n",
      "\n",
      "EPOCH 73 ...\n",
      "0.963 = Training accuracy vs Validation Accuracy = 0.943\n",
      "Starting to save model...\n",
      "...model saved.  Onward, hiya!\n",
      "\n",
      "EPOCH 74 ...\n",
      "0.966 = Training accuracy vs Validation Accuracy = 0.947\n",
      "Starting to save model...\n",
      "...model saved.  Onward, hiya!\n",
      "\n",
      "EPOCH 75 ...\n",
      "0.964 = Training accuracy vs Validation Accuracy = 0.941\n",
      "Starting to save model...\n",
      "...model saved.  Onward, hiya!\n",
      "\n",
      "EPOCH 76 ...\n",
      "0.955 = Training accuracy vs Validation Accuracy = 0.933\n",
      "Starting to save model...\n",
      "...model saved.  Onward, hiya!\n",
      "\n",
      "EPOCH 77 ...\n",
      "0.960 = Training accuracy vs Validation Accuracy = 0.942\n",
      "Starting to save model...\n",
      "...model saved.  Onward, hiya!\n",
      "\n",
      "EPOCH 78 ...\n",
      "0.972 = Training accuracy vs Validation Accuracy = 0.952\n",
      "Starting to save model...\n",
      "...model saved.  Onward, hiya!\n",
      "\n",
      "EPOCH 79 ...\n",
      "0.966 = Training accuracy vs Validation Accuracy = 0.946\n",
      "Starting to save model...\n",
      "...model saved.  Onward, hiya!\n",
      "\n",
      "EPOCH 80 ...\n",
      "0.968 = Training accuracy vs Validation Accuracy = 0.948\n",
      "Starting to save model...\n",
      "...model saved.  Onward, hiya!\n",
      "\n",
      "EPOCH 81 ...\n",
      "0.969 = Training accuracy vs Validation Accuracy = 0.947\n",
      "Starting to save model...\n",
      "...model saved.  Onward, hiya!\n",
      "\n",
      "EPOCH 82 ...\n",
      "0.970 = Training accuracy vs Validation Accuracy = 0.950\n",
      "Starting to save model...\n",
      "...model saved.  Onward, hiya!\n",
      "\n",
      "EPOCH 83 ...\n",
      "0.974 = Training accuracy vs Validation Accuracy = 0.955\n",
      "Starting to save model...\n",
      "...model saved.  Onward, hiya!\n",
      "\n",
      "EPOCH 84 ...\n",
      "0.972 = Training accuracy vs Validation Accuracy = 0.951\n",
      "Starting to save model...\n",
      "...model saved.  Onward, hiya!\n",
      "\n",
      "EPOCH 85 ...\n",
      "0.971 = Training accuracy vs Validation Accuracy = 0.949\n",
      "Starting to save model...\n",
      "...model saved.  Onward, hiya!\n",
      "\n",
      "EPOCH 86 ...\n",
      "0.971 = Training accuracy vs Validation Accuracy = 0.951\n",
      "Starting to save model...\n",
      "...model saved.  Onward, hiya!\n",
      "\n",
      "EPOCH 87 ...\n",
      "0.975 = Training accuracy vs Validation Accuracy = 0.954\n",
      "Starting to save model...\n",
      "...model saved.  Onward, hiya!\n",
      "\n",
      "EPOCH 88 ...\n",
      "0.966 = Training accuracy vs Validation Accuracy = 0.945\n",
      "Starting to save model...\n",
      "...model saved.  Onward, hiya!\n",
      "\n",
      "EPOCH 89 ...\n",
      "0.976 = Training accuracy vs Validation Accuracy = 0.959\n",
      "Starting to save model...\n",
      "...model saved.  Onward, hiya!\n",
      "\n",
      "EPOCH 90 ...\n",
      "0.976 = Training accuracy vs Validation Accuracy = 0.955\n",
      "Starting to save model...\n",
      "...model saved.  Onward, hiya!\n",
      "\n",
      "EPOCH 91 ...\n",
      "0.977 = Training accuracy vs Validation Accuracy = 0.959\n",
      "Starting to save model...\n",
      "...model saved.  Onward, hiya!\n",
      "\n",
      "EPOCH 92 ...\n",
      "0.968 = Training accuracy vs Validation Accuracy = 0.944\n",
      "Starting to save model...\n",
      "...model saved.  Onward, hiya!\n",
      "\n",
      "EPOCH 93 ...\n",
      "0.979 = Training accuracy vs Validation Accuracy = 0.959\n",
      "Starting to save model...\n",
      "...model saved.  Onward, hiya!\n",
      "\n",
      "EPOCH 94 ...\n",
      "0.975 = Training accuracy vs Validation Accuracy = 0.955\n",
      "Starting to save model...\n",
      "...model saved.  Onward, hiya!\n",
      "\n",
      "EPOCH 95 ...\n",
      "0.979 = Training accuracy vs Validation Accuracy = 0.960\n",
      "Starting to save model...\n",
      "...model saved.  Onward, hiya!\n",
      "\n",
      "EPOCH 96 ...\n",
      "0.975 = Training accuracy vs Validation Accuracy = 0.955\n",
      "Starting to save model...\n",
      "...model saved.  Onward, hiya!\n",
      "\n",
      "EPOCH 97 ...\n",
      "0.980 = Training accuracy vs Validation Accuracy = 0.959\n",
      "Starting to save model...\n",
      "...model saved.  Onward, hiya!\n",
      "\n",
      "EPOCH 98 ...\n",
      "0.977 = Training accuracy vs Validation Accuracy = 0.958\n",
      "Starting to save model...\n",
      "...model saved.  Onward, hiya!\n",
      "\n",
      "EPOCH 99 ...\n",
      "0.981 = Training accuracy vs Validation Accuracy = 0.963\n",
      "Starting to save model...\n",
      "...model saved.  Onward, hiya!\n",
      "\n",
      "EPOCH 100 ...\n",
      "0.977 = Training accuracy vs Validation Accuracy = 0.959\n",
      "Starting to save model...\n",
      "...model saved.  Onward, hiya!\n",
      "\n",
      "EPOCH 101 ...\n",
      "0.980 = Training accuracy vs Validation Accuracy = 0.961\n",
      "Starting to save model...\n",
      "...model saved.  Onward, hiya!\n",
      "\n",
      "EPOCH 102 ...\n",
      "0.980 = Training accuracy vs Validation Accuracy = 0.963\n",
      "Starting to save model...\n",
      "...model saved.  Onward, hiya!\n",
      "\n",
      "EPOCH 103 ...\n",
      "0.980 = Training accuracy vs Validation Accuracy = 0.962\n",
      "Starting to save model...\n",
      "...model saved.  Onward, hiya!\n",
      "\n",
      "EPOCH 104 ...\n"
     ]
    },
    {
     "ename": "KeyboardInterrupt",
     "evalue": "",
     "output_type": "error",
     "traceback": [
      "\u001b[0;31m---------------------------------------------------------------------------\u001b[0m",
      "\u001b[0;31mKeyboardInterrupt\u001b[0m                         Traceback (most recent call last)",
      "\u001b[0;32m<timed exec>\u001b[0m in \u001b[0;36m<module>\u001b[0;34m()\u001b[0m\n",
      "\u001b[0;32m<timed exec>\u001b[0m in \u001b[0;36mevaluate\u001b[0;34m(X_data, y_data)\u001b[0m\n",
      "\u001b[0;32m/home/carnd/anaconda3/envs/carnd-term1/lib/python3.5/site-packages/tensorflow/python/client/session.py\u001b[0m in \u001b[0;36mrun\u001b[0;34m(self, fetches, feed_dict, options, run_metadata)\u001b[0m\n\u001b[1;32m    764\u001b[0m     \u001b[0;32mtry\u001b[0m\u001b[0;34m:\u001b[0m\u001b[0;34m\u001b[0m\u001b[0m\n\u001b[1;32m    765\u001b[0m       result = self._run(None, fetches, feed_dict, options_ptr,\n\u001b[0;32m--> 766\u001b[0;31m                          run_metadata_ptr)\n\u001b[0m\u001b[1;32m    767\u001b[0m       \u001b[0;32mif\u001b[0m \u001b[0mrun_metadata\u001b[0m\u001b[0;34m:\u001b[0m\u001b[0;34m\u001b[0m\u001b[0m\n\u001b[1;32m    768\u001b[0m         \u001b[0mproto_data\u001b[0m \u001b[0;34m=\u001b[0m \u001b[0mtf_session\u001b[0m\u001b[0;34m.\u001b[0m\u001b[0mTF_GetBuffer\u001b[0m\u001b[0;34m(\u001b[0m\u001b[0mrun_metadata_ptr\u001b[0m\u001b[0;34m)\u001b[0m\u001b[0;34m\u001b[0m\u001b[0m\n",
      "\u001b[0;32m/home/carnd/anaconda3/envs/carnd-term1/lib/python3.5/site-packages/tensorflow/python/client/session.py\u001b[0m in \u001b[0;36m_run\u001b[0;34m(self, handle, fetches, feed_dict, options, run_metadata)\u001b[0m\n\u001b[1;32m    962\u001b[0m     \u001b[0;32mif\u001b[0m \u001b[0mfinal_fetches\u001b[0m \u001b[0;32mor\u001b[0m \u001b[0mfinal_targets\u001b[0m\u001b[0;34m:\u001b[0m\u001b[0;34m\u001b[0m\u001b[0m\n\u001b[1;32m    963\u001b[0m       results = self._do_run(handle, final_targets, final_fetches,\n\u001b[0;32m--> 964\u001b[0;31m                              feed_dict_string, options, run_metadata)\n\u001b[0m\u001b[1;32m    965\u001b[0m     \u001b[0;32melse\u001b[0m\u001b[0;34m:\u001b[0m\u001b[0;34m\u001b[0m\u001b[0m\n\u001b[1;32m    966\u001b[0m       \u001b[0mresults\u001b[0m \u001b[0;34m=\u001b[0m \u001b[0;34m[\u001b[0m\u001b[0;34m]\u001b[0m\u001b[0;34m\u001b[0m\u001b[0m\n",
      "\u001b[0;32m/home/carnd/anaconda3/envs/carnd-term1/lib/python3.5/site-packages/tensorflow/python/client/session.py\u001b[0m in \u001b[0;36m_do_run\u001b[0;34m(self, handle, target_list, fetch_list, feed_dict, options, run_metadata)\u001b[0m\n\u001b[1;32m   1012\u001b[0m     \u001b[0;32mif\u001b[0m \u001b[0mhandle\u001b[0m \u001b[0;32mis\u001b[0m \u001b[0;32mNone\u001b[0m\u001b[0;34m:\u001b[0m\u001b[0;34m\u001b[0m\u001b[0m\n\u001b[1;32m   1013\u001b[0m       return self._do_call(_run_fn, self._session, feed_dict, fetch_list,\n\u001b[0;32m-> 1014\u001b[0;31m                            target_list, options, run_metadata)\n\u001b[0m\u001b[1;32m   1015\u001b[0m     \u001b[0;32melse\u001b[0m\u001b[0;34m:\u001b[0m\u001b[0;34m\u001b[0m\u001b[0m\n\u001b[1;32m   1016\u001b[0m       return self._do_call(_prun_fn, self._session, handle, feed_dict,\n",
      "\u001b[0;32m/home/carnd/anaconda3/envs/carnd-term1/lib/python3.5/site-packages/tensorflow/python/client/session.py\u001b[0m in \u001b[0;36m_do_call\u001b[0;34m(self, fn, *args)\u001b[0m\n\u001b[1;32m   1019\u001b[0m   \u001b[0;32mdef\u001b[0m \u001b[0m_do_call\u001b[0m\u001b[0;34m(\u001b[0m\u001b[0mself\u001b[0m\u001b[0;34m,\u001b[0m \u001b[0mfn\u001b[0m\u001b[0;34m,\u001b[0m \u001b[0;34m*\u001b[0m\u001b[0margs\u001b[0m\u001b[0;34m)\u001b[0m\u001b[0;34m:\u001b[0m\u001b[0;34m\u001b[0m\u001b[0m\n\u001b[1;32m   1020\u001b[0m     \u001b[0;32mtry\u001b[0m\u001b[0;34m:\u001b[0m\u001b[0;34m\u001b[0m\u001b[0m\n\u001b[0;32m-> 1021\u001b[0;31m       \u001b[0;32mreturn\u001b[0m \u001b[0mfn\u001b[0m\u001b[0;34m(\u001b[0m\u001b[0;34m*\u001b[0m\u001b[0margs\u001b[0m\u001b[0;34m)\u001b[0m\u001b[0;34m\u001b[0m\u001b[0m\n\u001b[0m\u001b[1;32m   1022\u001b[0m     \u001b[0;32mexcept\u001b[0m \u001b[0merrors\u001b[0m\u001b[0;34m.\u001b[0m\u001b[0mOpError\u001b[0m \u001b[0;32mas\u001b[0m \u001b[0me\u001b[0m\u001b[0;34m:\u001b[0m\u001b[0;34m\u001b[0m\u001b[0m\n\u001b[1;32m   1023\u001b[0m       \u001b[0mmessage\u001b[0m \u001b[0;34m=\u001b[0m \u001b[0mcompat\u001b[0m\u001b[0;34m.\u001b[0m\u001b[0mas_text\u001b[0m\u001b[0;34m(\u001b[0m\u001b[0me\u001b[0m\u001b[0;34m.\u001b[0m\u001b[0mmessage\u001b[0m\u001b[0;34m)\u001b[0m\u001b[0;34m\u001b[0m\u001b[0m\n",
      "\u001b[0;32m/home/carnd/anaconda3/envs/carnd-term1/lib/python3.5/site-packages/tensorflow/python/client/session.py\u001b[0m in \u001b[0;36m_run_fn\u001b[0;34m(session, feed_dict, fetch_list, target_list, options, run_metadata)\u001b[0m\n\u001b[1;32m   1001\u001b[0m         return tf_session.TF_Run(session, options,\n\u001b[1;32m   1002\u001b[0m                                  \u001b[0mfeed_dict\u001b[0m\u001b[0;34m,\u001b[0m \u001b[0mfetch_list\u001b[0m\u001b[0;34m,\u001b[0m \u001b[0mtarget_list\u001b[0m\u001b[0;34m,\u001b[0m\u001b[0;34m\u001b[0m\u001b[0m\n\u001b[0;32m-> 1003\u001b[0;31m                                  status, run_metadata)\n\u001b[0m\u001b[1;32m   1004\u001b[0m \u001b[0;34m\u001b[0m\u001b[0m\n\u001b[1;32m   1005\u001b[0m     \u001b[0;32mdef\u001b[0m \u001b[0m_prun_fn\u001b[0m\u001b[0;34m(\u001b[0m\u001b[0msession\u001b[0m\u001b[0;34m,\u001b[0m \u001b[0mhandle\u001b[0m\u001b[0;34m,\u001b[0m \u001b[0mfeed_dict\u001b[0m\u001b[0;34m,\u001b[0m \u001b[0mfetch_list\u001b[0m\u001b[0;34m)\u001b[0m\u001b[0;34m:\u001b[0m\u001b[0;34m\u001b[0m\u001b[0m\n",
      "\u001b[0;31mKeyboardInterrupt\u001b[0m: "
     ]
    }
   ],
   "source": [
    "%%time\n",
    "\n",
    "rate = 0.00175\n",
    "largeBiasPenalty = 0.025\n",
    "keep_probability = 0.79\n",
    "\n",
    "logits = LeNet(x)\n",
    "cross_entropy = tf.nn.softmax_cross_entropy_with_logits(labels=one_hot_y, logits=logits)\n",
    "\n",
    "# Add regularization to the loss for highly-biased weights\n",
    "loss_operation = tf.reduce_mean(cross_entropy) + \\\n",
    "    largeBiasPenalty * tf.nn.l2_loss(conv1_W) +\\\n",
    "    largeBiasPenalty * tf.nn.l2_loss(conv2_W) +\\\n",
    "    largeBiasPenalty * tf.nn.l2_loss(fc1_W) +\\\n",
    "    largeBiasPenalty * tf.nn.l2_loss(fc2_W) +\\\n",
    "    largeBiasPenalty * tf.nn.l2_loss(fc3_W)\n",
    "    \n",
    "optimizer = tf.train.AdamOptimizer(learning_rate = rate)\n",
    "training_operation = optimizer.minimize(loss_operation)\n",
    "\n",
    "\n",
    "### Calculate and report the accuracy on the training and validation set.\n",
    "correct_prediction = tf.equal(tf.argmax(logits, 1), tf.argmax(one_hot_y, 1))\n",
    "accuracy_operation = tf.reduce_mean(tf.cast(correct_prediction, tf.float32))\n",
    "saver = tf.train.Saver()\n",
    "\n",
    "def evaluate(X_data, y_data):\n",
    "    num_examples = len(X_data)\n",
    "    total_accuracy = 0\n",
    "    sess = tf.get_default_session()\n",
    "    for offset in range(0, num_examples, BATCH_SIZE):\n",
    "        batch_x, batch_y = X_data[offset:offset+BATCH_SIZE], y_data[offset:offset+BATCH_SIZE]\n",
    "        accuracy = sess.run(accuracy_operation, feed_dict={x: batch_x, y: batch_y, keep_prob: 1.0})\n",
    "        total_accuracy += (accuracy * len(batch_x))\n",
    "    return total_accuracy / num_examples\n",
    "\n",
    "\n",
    "\n",
    "with tf.Session() as sess:\n",
    "    sess.run(tf.global_variables_initializer())\n",
    "    num_examples = len(X_train)\n",
    "    \n",
    "    print(\"Training...\")\n",
    "    print()\n",
    "    for i in range(EPOCHS):\n",
    "        print(\"EPOCH {} ...\".format(i+1))\n",
    "        X_train, y_train = shuffle(X_train, y_train)\n",
    "        for offset in range(0, num_examples, BATCH_SIZE):\n",
    "            end = offset + BATCH_SIZE\n",
    "            batch_x, batch_y = X_train[offset:end], y_train[offset:end]\n",
    "            sess.run(training_operation, feed_dict={x: batch_x, y: batch_y, keep_prob: keep_probability})\n",
    "    \n",
    "        training_accuracy = evaluate(X_train, y_train)\n",
    "        validation_accuracy = evaluate(X_validation, y_validation)\n",
    "        print(\"{:.3f} = Training accuracy vs Validation Accuracy = {:.3f}\".format(training_accuracy, validation_accuracy))\n",
    "        \n",
    "        print(\"Starting to save model...\")\n",
    "        saver.save(sess, './traffick')\n",
    "        print(\"...model saved.  Onward, hiya!\")\n",
    "        \n",
    "        print()\n",
    "    \n",
    "print(\"ALL DONE!  Yippie Kay Yae!\")"
   ]
  },
  {
   "cell_type": "markdown",
   "metadata": {},
   "source": [
    "And what do we get!!??  PASS!!!!  Kinda..."
   ]
  },
  {
   "cell_type": "code",
   "execution_count": 22,
   "metadata": {
    "scrolled": true
   },
   "outputs": [
    {
     "name": "stdout",
     "output_type": "stream",
     "text": [
      "Test Accuracy = 0.882\n"
     ]
    }
   ],
   "source": [
    "with tf.Session() as sess:\n",
    "    saver.restore(sess, tf.train.latest_checkpoint('.'))\n",
    "\n",
    "    test_accuracy = evaluate(X_test, y_test)\n",
    "    print(\"Test Accuracy = {:.3f}\".format(test_accuracy))\n",
    "    "
   ]
  },
  {
   "cell_type": "markdown",
   "metadata": {},
   "source": [
    "Below preserves the one time I actually got the required accuracy.  Yes, its dependent on how the dataset is shuffled, but I have spent too long on this project, need to catch up with the rest of the class!"
   ]
  },
  {
   "cell_type": "code",
   "execution_count": 133,
   "metadata": {
    "scrolled": true
   },
   "outputs": [
    {
     "name": "stdout",
     "output_type": "stream",
     "text": [
      "Test Accuracy = 0.932\n",
      "CPU times: user 16.3 s, sys: 3.6 s, total: 19.9 s\n",
      "Wall time: 15.4 s\n"
     ]
    }
   ],
   "source": [
    "%%time\n",
    "\n",
    "with tf.Session() as sess:\n",
    "    saver.restore(sess, tf.train.latest_checkpoint('.'))\n",
    "\n",
    "    test_accuracy = evaluate(X_test, y_test)\n",
    "    print(\"Test Accuracy = {:.3f}\".format(test_accuracy))\n",
    "    "
   ]
  },
  {
   "cell_type": "markdown",
   "metadata": {},
   "source": [
    "---\n",
    "## Step 4: Use the model to make predictions on new images\n",
    "\n",
    "\n",
    "Here we download 5 images from the web to test our dataset against.  I added a sixth image.  For some silly reason when I first started, I sought out traffic signs that are _not_ in the dataset (we, afterall, have a test set for verifying overall accuracy anyway).  So I included a sixth one, a Tank-cross sign, which doesn't exist in the dataset, to see how easily the model may be fooled.\n",
    "\n",
    "\n"
   ]
  },
  {
   "cell_type": "markdown",
   "metadata": {},
   "source": [
    "### Load and Output the Images"
   ]
  },
  {
   "cell_type": "code",
   "execution_count": 27,
   "metadata": {},
   "outputs": [
    {
     "name": "stdout",
     "output_type": "stream",
     "text": [
      "size of tank: (32, 32, 3) \n"
     ]
    },
    {
     "data": {
      "image/png": "[encoded data removed]",
      "text/plain": [
       "<matplotlib.figure.Figure at 0x7f219a03ddd8>"
      ]
     },
     "metadata": {},
     "output_type": "display_data"
    },
    {
     "name": "stdout",
     "output_type": "stream",
     "text": [
      "size of animal: (32, 32, 3) \n"
     ]
    },
    {
     "data": {
      "image/png": "[encoded data removed]",
      "text/plain": [
       "<matplotlib.figure.Figure at 0x7f2198eaac50>"
      ]
     },
     "metadata": {},
     "output_type": "display_data"
    },
    {
     "name": "stdout",
     "output_type": "stream",
     "text": [
      "size of general_caution: (32, 32, 3) \n"
     ]
    },
    {
     "data": {
      "image/png": "[encoded data removed]",
      "text/plain": [
       "<matplotlib.figure.Figure at 0x7f2198fc0fd0>"
      ]
     },
     "metadata": {},
     "output_type": "display_data"
    },
    {
     "name": "stdout",
     "output_type": "stream",
     "text": [
      "size of dangerous_left: (32, 32, 3) \n"
     ]
    },
    {
     "data": {
      "image/png": "[encoded data removed]",
      "text/plain": [
       "<matplotlib.figure.Figure at 0x7f2199868940>"
      ]
     },
     "metadata": {},
     "output_type": "display_data"
    },
    {
     "name": "stdout",
     "output_type": "stream",
     "text": [
      "size of kph_60: (32, 32, 3) \n"
     ]
    },
    {
     "data": {
      "image/png": "[encoded data removed]",
      "text/plain": [
       "<matplotlib.figure.Figure at 0x7f219a1187f0>"
      ]
     },
     "metadata": {},
     "output_type": "display_data"
    },
    {
     "name": "stdout",
     "output_type": "stream",
     "text": [
      "size of kph_30: (32, 32, 3) \n"
     ]
    },
    {
     "data": {
      "image/png": "[encoded data removed]",
      "text/plain": [
       "<matplotlib.figure.Figure at 0x7f2198fc5d30>"
      ]
     },
     "metadata": {},
     "output_type": "display_data"
    },
    {
     "name": "stdout",
     "output_type": "stream",
     "text": [
      "(6, 32, 32, 3)\n"
     ]
    }
   ],
   "source": [
    "# class id = NONE!\n",
    "tank = mpimg.imread('downloaded/tank.png')\n",
    "print('size of tank: {} '.format(np.shape(tank)))\n",
    "\n",
    "# It seems like mpimg is already 'normalizing' the images as we read them.  Or it was OSX Preview as I reshapped the classes.\n",
    "#print('full output of tank: {}'.format(tank))\n",
    "#print('normalizing tank: {}'.format(normalize(tank)))\n",
    "\n",
    "plt.title('TANK!')\n",
    "plt.imshow(tank)\n",
    "plt.show()\n",
    "\n",
    "# class id = 31\n",
    "wild_animals = mpimg.imread('downloaded/847px-Zeichen_142-10_-_Wildwechsel,_Aufstellung_rechts,_StVO_1992.svg.png')\n",
    "print('size of animal: {} '.format(np.shape(wild_animals)))\n",
    "plt.title('Wild Animal Xing')\n",
    "plt.imshow(wild_animals)\n",
    "plt.show()\n",
    "\n",
    "# class id = 18\n",
    "general_caution = mpimg.imread('downloaded/Zeichen_101_-_Gefahrstelle,_StVO_1970.svg.png')\n",
    "print('size of general_caution: {} '.format(np.shape(general_caution)))\n",
    "plt.title('General Caution')\n",
    "plt.imshow(general_caution)\n",
    "plt.show()\n",
    "\n",
    "# class id = 19\n",
    "dangerous_left = mpimg.imread('downloaded/Zeichen_103-10_-_Kurve_(links),_StVO_1992.svg.png')\n",
    "print('size of dangerous_left: {} '.format(np.shape(dangerous_left)))\n",
    "plt.title('Dangerous curve to the left')\n",
    "plt.imshow(dangerous_left)\n",
    "plt.show()\n",
    "\n",
    "\n",
    "# class id = 3\n",
    "kph_60 = mpimg.imread('downloaded/Zeichen_274-56.svg.png')\n",
    "print('size of kph_60: {} '.format(np.shape(kph_60)))\n",
    "plt.title('60 KM/h')\n",
    "plt.imshow(kph_60)\n",
    "plt.show()\n",
    "\n",
    "# class id 1\n",
    "kph_30 = mpimg.imread('downloaded/Zeichen_274.1_-_Beginn_einer_Tempo_30-Zone,_StVO_2013.svg.png')\n",
    "print('size of kph_30: {} '.format(np.shape(kph_30)))\n",
    "plt.title('Entering 30 KM/h zone')\n",
    "plt.imshow(kph_30)\n",
    "plt.show()\n",
    "\n",
    "\n",
    "\n",
    "X_downloaded = [tank, wild_animals, general_caution, dangerous_left, kph_60, kph_30]\n",
    "y_downloaded = [-1,31,18,19,3,1]\n",
    "\n",
    "print(np.shape(X_downloaded))"
   ]
  },
  {
   "cell_type": "markdown",
   "metadata": {},
   "source": [
    "---\n",
    "## Step 5 Analyze the softmax probabilities of the new images Test a Model on New Images"
   ]
  },
  {
   "cell_type": "markdown",
   "metadata": {},
   "source": [
    "### Predict the Sign Type for Each Image"
   ]
  },
  {
   "cell_type": "code",
   "execution_count": 23,
   "metadata": {},
   "outputs": [
    {
     "name": "stdout",
     "output_type": "stream",
     "text": [
      "Test Accuracy = 0.000\n",
      "CPU times: user 564 ms, sys: 460 ms, total: 1.02 s\n",
      "Wall time: 528 ms\n"
     ]
    }
   ],
   "source": [
    "%%time\n",
    "\n",
    "with tf.Session() as sess:\n",
    "    saver.restore(sess, tf.train.latest_checkpoint('.'))\n",
    "    test_accuracy = evaluate(X_downloaded, y_downloaded)\n",
    "    print(\"Test Accuracy = {:.3f}\".format(test_accuracy))\n"
   ]
  },
  {
   "cell_type": "markdown",
   "metadata": {},
   "source": [
    "### Output Top 5 Softmax Probabilities For Each Image Found on the Web"
   ]
  },
  {
   "cell_type": "code",
   "execution_count": 24,
   "metadata": {},
   "outputs": [
    {
     "name": "stdout",
     "output_type": "stream",
     "text": [
      "Eval with top5 function loaded\n"
     ]
    }
   ],
   "source": [
    "# function to print out softmax\n",
    "# It may be a bit more optimized to run this during accuracy option. But not needed for this project's purposes\n",
    "\n",
    "top5 = tf.nn.top_k(tf.nn.softmax(logits), k=5)\n",
    "\n",
    "def eval_downloaded(X_data, y_data):\n",
    "    num_examples = len(X_data)\n",
    "    sess = tf.get_default_session()\n",
    "    t5 = sess.run(top5, feed_dict={x: X_data, y: y_data, keep_prob: 1.0})\n",
    "    print(\"TOP5   {}\".format(t5))\n",
    "    return t5\n",
    "\n",
    "print('Eval with top5 function loaded')"
   ]
  },
  {
   "cell_type": "code",
   "execution_count": 25,
   "metadata": {},
   "outputs": [
    {
     "name": "stdout",
     "output_type": "stream",
     "text": [
      "TOP5   TopKV2(values=array([[ 0.0981414 ,  0.07578082,  0.06946859,  0.06201295,  0.04533249],\n",
      "       [ 0.09399547,  0.08496545,  0.06298173,  0.06221561,  0.04303629],\n",
      "       [ 0.08181851,  0.07178923,  0.07077026,  0.06547637,  0.04611111],\n",
      "       [ 0.10083228,  0.08288508,  0.07090969,  0.05555868,  0.04724773],\n",
      "       [ 0.09955632,  0.08115049,  0.08067164,  0.06269072,  0.04845662],\n",
      "       [ 0.08280152,  0.07337368,  0.07168196,  0.0580777 ,  0.04537925]], dtype=float32), indices=array([[10,  5,  3,  8,  9],\n",
      "       [10,  5,  8,  3, 25],\n",
      "       [ 5,  8, 10,  3, 20],\n",
      "       [10,  5,  3,  8, 20],\n",
      "       [ 5,  3, 10,  8,  4],\n",
      "       [10,  5,  3,  8, 20]], dtype=int32))\n",
      "top 5 matrix in full = TopKV2(values=array([[ 0.0981414 ,  0.07578082,  0.06946859,  0.06201295,  0.04533249],\n",
      "       [ 0.09399547,  0.08496545,  0.06298173,  0.06221561,  0.04303629],\n",
      "       [ 0.08181851,  0.07178923,  0.07077026,  0.06547637,  0.04611111],\n",
      "       [ 0.10083228,  0.08288508,  0.07090969,  0.05555868,  0.04724773],\n",
      "       [ 0.09955632,  0.08115049,  0.08067164,  0.06269072,  0.04845662],\n",
      "       [ 0.08280152,  0.07337368,  0.07168196,  0.0580777 ,  0.04537925]], dtype=float32), indices=array([[10,  5,  3,  8,  9],\n",
      "       [10,  5,  8,  3, 25],\n",
      "       [ 5,  8, 10,  3, 20],\n",
      "       [10,  5,  3,  8, 20],\n",
      "       [ 5,  3, 10,  8,  4],\n",
      "       [10,  5,  3,  8, 20]], dtype=int32))\n",
      "CPU times: user 564 ms, sys: 516 ms, total: 1.08 s\n",
      "Wall time: 545 ms\n"
     ]
    }
   ],
   "source": [
    "%%time\n",
    "\n",
    "with tf.Session() as sess:\n",
    "    saver.restore(sess, tf.train.latest_checkpoint('.'))\n",
    "    top5_accuracy = eval_downloaded(X_downloaded, y_downloaded)\n",
    "    print(\"top 5 matrix in full = {}\".format(top5_accuracy))\n"
   ]
  },
  {
   "cell_type": "markdown",
   "metadata": {},
   "source": [
    "Overall, these numbers are not surprising.  Whatever preprocessing steps I did on the images clearly did not go over so well.  Given more time (must move on to next project), I am confident I can get this to be more interesting.  At least I can show that I know enough Tensorflow to evaluate top-5.  What would be interesting would be one would expect to hope to see low probabilities for a completely unknown image.  This would maybe also require more augmentation. "
   ]
  },
  {
   "cell_type": "markdown",
   "metadata": {},
   "source": [
    "---\n",
    "## Step 6 Project Writeup\n",
    "\n",
    "This here Jupyter notebook acts as my writeup!\n",
    "\n",
    "\n",
    "Overall, I had a frustrating time on this project, as fun as it was to play around with tensorflow and learn actual traffic signs.  Due to work obligations, I could realisitically only commit an hour or two per day to this project.  The majority of my time I spent spinning my wheels due to trying to get the saved model to restore from the saved checkpoint.  Using 'last checkpoint' works fine, but the other approaches as documented in the TensorFlow documentation and Udacity class only resulted in errors.  \n",
    "\n",
    "\n",
    "I also was surprised that the LeNet architecture worked prefectly fine, even without normalization and in spite of the fact it had been setup for 10-class problem, rather than the 43-class problem we currently have.  Also surprising is adding dropout dramatically decreased the accuracy.  I noticed that, in spite of a lot of parameters, there seemed to be a local optima that kept accuracy stuck at exactly 5.4%.  Sometimes, I would let the model run for 70 epochs and then it would rapidally get close to 95% accuracy after getting out of the 5.4% rut it was in.\n",
    "\n",
    "\n",
    "I do not agree with augmenting the dataset, despite explicit hints provided, and feel it's important to construct a deep net that realisitically simulates learning conditions of the real world.  Even better would be to use few examples.  The average human, in their lifetime, would not need to see 100,000+ examples of traffic signs repeatedly in order to accurately predict them.   Granted, we are also in these training sets teaching a net to read images.  It would be nice if there were preconfigured nets that already understand how to read images, that then feed into one specifically for traffic signs. Some of my comments are inspired by a tweet from Yan Lecunn, I'll let it speak for itself when he was congratulating Alpha Go on its achievements, and then challenged them to do the same with far less examples and reinforcement learning.  [Yann's tweet](https://twitter.com/ylecun/status/708732919548919808)\n",
    "\n",
    "In either case I was able to get the minimun necessary accuracy.\n",
    "\n",
    "\n",
    "Some other observations:\n",
    "- I tried to apply the \"keep calm and lower your learning rate\" trick.  I was giving values as low as a magnitude of 10e-10 and I still constantly kept getting stuck in the 5% rut.  I reread what the Adam optimizer is and realize it applies the learn-rate lowering throughout repeated iterations, so I embraced a higher learning rate and that did a much better job of not being stuck in the 5% gutter. \n",
    "- I removed a fully-connected layer.  It took a lot more cajoling to get results above 90%, so I brought it back. \n",
    "- I used a lazy-person's stop for overregularization.  By saving the model after each epoch, I could keep my eye on when it reached a satisfactory accuracy, and stop as needed.  I thought about applying a simple-moving average to only stop when the rate of accuracy decreases after X epochs, but since I wasn't sure what values to use, and sometimes it would take dozens of minutes to reach a certain state, I would hate for things to stop.  So I used an overly large number of epochs, with manual stopping.\n",
    "- Strangley, dropout and regularization seemed to make things worst"
   ]
  }
 ],
 "metadata": {
  "anaconda-cloud": {},
  "kernelspec": {
   "display_name": "Python 3",
   "language": "python",
   "name": "python3"
  },
  "language_info": {
   "codemirror_mode": {
    "name": "ipython",
    "version": 3
   },
   "file_extension": ".py",
   "mimetype": "text/x-python",
   "name": "python",
   "nbconvert_exporter": "python",
   "pygments_lexer": "ipython3",
   "version": "3.5.2"
  },
  "widgets": {
   "state": {},
   "version": "1.1.2"
  }
 },
 "nbformat": 4,
 "nbformat_minor": 1
}
